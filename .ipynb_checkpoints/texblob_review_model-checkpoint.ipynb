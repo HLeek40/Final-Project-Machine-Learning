{
 "cells": [
  {
   "cell_type": "code",
   "execution_count": 1,
   "metadata": {},
   "outputs": [],
   "source": [
    "#import the libraries and dependencies\n",
    "from textblob import TextBlob\n",
    "import numpy as np\n",
    "import pandas as pd\n",
    "from os import path"
   ]
  },
  {
   "cell_type": "code",
   "execution_count": 2,
   "metadata": {},
   "outputs": [],
   "source": [
    "#import matplotlib for use in displaying the wordcloud\n",
    "import matplotlib.pyplot as plt\n",
    "%matplotlib inline"
   ]
  },
  {
   "cell_type": "code",
   "execution_count": 3,
   "metadata": {},
   "outputs": [],
   "source": [
    "import json\n",
    "import os\n",
    "import sqlalchemy\n",
    "import pandas as pd\n",
    "from sqlalchemy.ext.automap import automap_base\n",
    "from sqlalchemy.orm import Session\n",
    "from sqlalchemy import create_engine, func, inspect\n",
    "from sqlalchemy import Table, Column, Integer, String, MetaData, DateTime, Boolean\n",
    "import psycopg2\n",
    "import sys\n",
    "import re\n",
    "from datetime import datetime\n",
    "import string\n",
    "db_server = 'project-3-db.cnsppazvk5qa.us-east-2.rds.amazonaws.com'\n",
    "db_port = 5432\n",
    "db_pass = 'fred007!'\n",
    "db_user = 'root'\n",
    "db_name = 'projectDB'\n",
    "\n",
    "Base = automap_base()\n",
    "\n",
    "try:\n",
    "    engine = create_engine('postgresql+psycopg2://{}:{}@{}/{}'.format(db_user,db_pass,db_server,db_name))\n",
    "except:\n",
    "    print(sys.exc_info()[0])\n",
    "    exit\n",
    "\n",
    "Base.prepare(engine, reflect=True)\n",
    "\n",
    "Product = Base.classes.product\n",
    "Reviews = Base.classes.reviews\n",
    "Author = Base.classes.author\n",
    "\n",
    "session = Session(engine)\n",
    "array = []\n",
    "array2 = []\n",
    "\n",
    "fred = session.query(Reviews.text).all()\n",
    "for i in fred:\n",
    "    #joe = i[0].lower()\n",
    "    # joe = re.sub(r'[^\\w]','',joe)\n",
    "    # print(joe)\n",
    "    #f = joe.translate(str.maketrans('','',string.punctuation))\n",
    "    array.append(i[0].lower().translate(str.maketrans('','',string.punctuation)))\n",
    "    array2.append(i[0])"
   ]
  },
  {
   "cell_type": "code",
   "execution_count": 4,
   "metadata": {},
   "outputs": [],
   "source": [
    "blob = TextBlob(\"array\")"
   ]
  },
  {
   "cell_type": "code",
   "execution_count": 5,
   "metadata": {},
   "outputs": [
    {
     "data": {
      "text/plain": [
       "[('array', 'NN')]"
      ]
     },
     "execution_count": 5,
     "metadata": {},
     "output_type": "execute_result"
    }
   ],
   "source": [
    "blob.tags"
   ]
  },
  {
   "cell_type": "code",
   "execution_count": 6,
   "metadata": {},
   "outputs": [],
   "source": [
    "polarity_list,subjectivity_list=[],[]\n",
    "\n",
    "for i in array:\n",
    "    blob = TextBlob(i)\n",
    "    polarity_list.append(blob.sentiment.polarity)\n",
    "    subjectivity_list.append(blob.sentiment.subjectivity)"
   ]
  },
  {
   "cell_type": "code",
   "execution_count": 7,
   "metadata": {},
   "outputs": [
    {
     "name": "stdout",
     "output_type": "stream",
     "text": [
      "[-0.9099999999999998, 0.0, 0.06666666666666665, 0.13541666666666666, 0.6499999999999999]\n",
      "[0.8666666666666667, 0.0, 0.5333333333333333, 0.45625000000000004, 0.8]\n"
     ]
    }
   ],
   "source": [
    "print(polarity_list[:5])\n",
    "print(subjectivity_list[:5])"
   ]
  },
  {
   "cell_type": "code",
   "execution_count": 8,
   "metadata": {},
   "outputs": [],
   "source": [
    "#Polarity: Polarity score is a float within the range [-1.0, 1.0], \n",
    "#also known as orientation polarity is the emotion expressed in the sentence. \n",
    "#It can be positive, negative or neutral.\n",
    "#Polarity ditribution\n",
    "import seaborn as sns\n",
    "sns.set(color_codes=True)\n",
    "from pylab import *"
   ]
  },
  {
   "cell_type": "code",
   "execution_count": 9,
   "metadata": {},
   "outputs": [
    {
     "name": "stderr",
     "output_type": "stream",
     "text": [
      "C:\\Users\\reese\\Anaconda3\\lib\\site-packages\\scipy\\stats\\stats.py:1713: FutureWarning: Using a non-tuple sequence for multidimensional indexing is deprecated; use `arr[tuple(seq)]` instead of `arr[seq]`. In the future this will be interpreted as an array index, `arr[np.array(seq)]`, which will result either in an error or a different result.\n",
      "  return np.add.reduce(sorted[indexer] * weights, axis=axis) / sumval\n"
     ]
    },
    {
     "data": {
      "image/png": "[encoded data removed]",
      "text/plain": [
       "<Figure size 432x288 with 1 Axes>"
      ]
     },
     "metadata": {},
     "output_type": "display_data"
    }
   ],
   "source": [
    "sns.distplot(polarity_list)\n",
    "show()"
   ]
  },
  {
   "cell_type": "code",
   "execution_count": 10,
   "metadata": {},
   "outputs": [
    {
     "name": "stderr",
     "output_type": "stream",
     "text": [
      "C:\\Users\\reese\\Anaconda3\\lib\\site-packages\\scipy\\stats\\stats.py:1713: FutureWarning: Using a non-tuple sequence for multidimensional indexing is deprecated; use `arr[tuple(seq)]` instead of `arr[seq]`. In the future this will be interpreted as an array index, `arr[np.array(seq)]`, which will result either in an error or a different result.\n",
      "  return np.add.reduce(sorted[indexer] * weights, axis=axis) / sumval\n"
     ]
    },
    {
     "data": {
      "image/png": "[encoded data removed]",
      "text/plain": [
       "<Figure size 432x288 with 1 Axes>"
      ]
     },
     "metadata": {},
     "output_type": "display_data"
    }
   ],
   "source": [
    "#Subjectivity Distribution\n",
    "sns.distplot(subjectivity_list)\n",
    "show()"
   ]
  },
  {
   "cell_type": "code",
   "execution_count": 11,
   "metadata": {},
   "outputs": [
    {
     "name": "stdout",
     "output_type": "stream",
     "text": [
      "DescribeResult(nobs=20394, minmax=(-1.0, 1.0), mean=0.276409421056579, variance=0.07586410711283058, skewness=0.11474782205360813, kurtosis=0.9308353881701383)\n",
      "DescribeResult(nobs=20394, minmax=(0.0, 1.0), mean=0.5448231739957156, variance=0.0442660380449693, skewness=-0.7257368203154756, kurtosis=1.1294594355166598)\n"
     ]
    }
   ],
   "source": [
    "#Creating a  statistical summary of polarity & subjectivity\n",
    "from scipy import stats\n",
    "\n",
    "print(stats.describe(polarity_list))\n",
    "print(stats.describe(subjectivity_list))"
   ]
  }
 ],
 "metadata": {
  "kernelspec": {
   "display_name": "Python 3",
   "language": "python",
   "name": "python3"
  },
  "language_info": {
   "codemirror_mode": {
    "name": "ipython",
    "version": 3
   },
   "file_extension": ".py",
   "mimetype": "text/x-python",
   "name": "python",
   "nbconvert_exporter": "python",
   "pygments_lexer": "ipython3",
   "version": "3.7.3"
  }
 },
 "nbformat": 4,
 "nbformat_minor": 2
}
