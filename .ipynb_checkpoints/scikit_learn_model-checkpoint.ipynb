{
 "cells": [
  {
   "cell_type": "code",
   "execution_count": 1,
   "metadata": {},
   "outputs": [],
   "source": [
    "import numpy as np  \n",
    "import pandas as pd  \n",
    "import sklearn  \n",
    "import sklearn.datasets \n",
    "import matplotlib.pyplot as plt  \n",
    "%matplotlib inline"
   ]
  },
  {
   "cell_type": "code",
   "execution_count": null,
   "metadata": {},
   "outputs": [],
   "source": [
    "import json\n",
    "import os\n",
    "import sqlalchemy\n",
    "import pandas as pd\n",
    "from sqlalchemy.ext.automap import automap_base\n",
    "from sqlalchemy.orm import Session\n",
    "from sqlalchemy import create_engine, func, inspect\n",
    "from sqlalchemy import Table, Column, Integer, String, MetaData, DateTime, Boolean\n",
    "import psycopg2\n",
    "import sys\n",
    "import re\n",
    "from datetime import datetime\n",
    "import string\n",
    "db_server = 'project-3-db.cnsppazvk5qa.us-east-2.rds.amazonaws.com'\n",
    "db_port = 5432\n",
    "db_pass = 'fred007!'\n",
    "db_user = 'root'\n",
    "db_name = 'projectDB'\n",
    "\n",
    "Base = automap_base()\n",
    "\n",
    "try:\n",
    "    engine = create_engine('postgresql+psycopg2://{}:{}@{}/{}'.format(db_user,db_pass,db_server,db_name))\n",
    "except:\n",
    "    print(sys.exc_info()[0])\n",
    "    exit\n",
    "\n",
    "Base.prepare(engine, reflect=True)\n",
    "\n",
    "Product = Base.classes.product\n",
    "Reviews = Base.classes.reviews\n",
    "Author = Base.classes.author\n",
    "\n",
    "session = Session(engine)\n",
    "array = []\n",
    "array2 = []\n",
    "\n",
    "fred = session.query(Reviews.text).all()\n",
    "for i in fred:\n",
    "    #joe = i[0].lower()\n",
    "    # joe = re.sub(r'[^\\w]','',joe)\n",
    "    # print(joe)\n",
    "    #f = joe.translate(str.maketrans('','',string.punctuation))\n",
    "    array.append(i[0].lower().translate(str.maketrans('','',string.punctuation)))\n",
    "    array2.append(i[0])"
   ]
  },
  {
   "cell_type": "code",
   "execution_count": null,
   "metadata": {},
   "outputs": [],
   "source": [
    "array['stars'] = df_array.sentiment.map(lambda x: int(5) if x =='positive' else int(4) if x =='positive' else int(3) if x == 'neutral' else int(2) if x == 'negative' else int(1) if x == 'negative')\n",
    "print df_training['sentiment'].value_counts()\n",
    "df_training.head()"
   ]
  },
  {
   "cell_type": "code",
   "execution_count": null,
   "metadata": {},
   "outputs": [],
   "source": []
  },
  {
   "cell_type": "code",
   "execution_count": null,
   "metadata": {},
   "outputs": [],
   "source": []
  },
  {
   "cell_type": "code",
   "execution_count": null,
   "metadata": {},
   "outputs": [],
   "source": []
  },
  {
   "cell_type": "code",
   "execution_count": null,
   "metadata": {},
   "outputs": [],
   "source": []
  },
  {
   "cell_type": "code",
   "execution_count": null,
   "metadata": {},
   "outputs": [],
   "source": []
  },
  {
   "cell_type": "code",
   "execution_count": null,
   "metadata": {},
   "outputs": [],
   "source": []
  },
  {
   "cell_type": "code",
   "execution_count": null,
   "metadata": {},
   "outputs": [],
   "source": []
  },
  {
   "cell_type": "code",
   "execution_count": null,
   "metadata": {},
   "outputs": [],
   "source": []
  },
  {
   "cell_type": "code",
   "execution_count": null,
   "metadata": {},
   "outputs": [],
   "source": []
  },
  {
   "cell_type": "code",
   "execution_count": null,
   "metadata": {},
   "outputs": [],
   "source": []
  }
 ],
 "metadata": {
  "kernelspec": {
   "display_name": "Python 3",
   "language": "python",
   "name": "python3"
  },
  "language_info": {
   "codemirror_mode": {
    "name": "ipython",
    "version": 3
   },
   "file_extension": ".py",
   "mimetype": "text/x-python",
   "name": "python",
   "nbconvert_exporter": "python",
   "pygments_lexer": "ipython3",
   "version": "3.7.3"
  }
 },
 "nbformat": 4,
 "nbformat_minor": 2
}
